{
 "cells": [
  {
   "cell_type": "code",
   "execution_count": 1,
   "metadata": {},
   "outputs": [],
   "source": [
    "import pandas as pd\n",
    "import numpy  as np\n",
    "import sklearn as sk\n",
    "import math as ma\n",
    "import scipy.stats as st\n",
    "import matplotlib\n",
    "from matplotlib import pylab as plt\n",
    "import textcleaner as tc \n",
    "import re\n",
    "import nltk\n",
    "\n",
    "from sklearn.preprocessing import OneHotEncoder\n",
    "from sklearn.preprocessing import OrdinalEncoder\n",
    "from sklearn.preprocessing import StandardScaler\n",
    "from sklearn.preprocessing import MinMaxScaler\n",
    "from sklearn.impute import SimpleImputer\n",
    "from sklearn.preprocessing import LabelEncoder\n",
    "from sklearn.feature_extraction.text import CountVectorizer\n",
    "\n",
    "from os.path import dirname, abspath\n",
    "d = dirname(dirname(abspath(\"data1030-student-f19/Whiskey1030/\")))"
   ]
  },
  {
   "cell_type": "code",
   "execution_count": 2,
   "metadata": {},
   "outputs": [
    {
     "data": {
      "text/html": [
       "<div>\n",
       "<style scoped>\n",
       "    .dataframe tbody tr th:only-of-type {\n",
       "        vertical-align: middle;\n",
       "    }\n",
       "\n",
       "    .dataframe tbody tr th {\n",
       "        vertical-align: top;\n",
       "    }\n",
       "\n",
       "    .dataframe thead th {\n",
       "        text-align: right;\n",
       "    }\n",
       "</style>\n",
       "<table border=\"1\" class=\"dataframe\">\n",
       "  <thead>\n",
       "    <tr style=\"text-align: right;\">\n",
       "      <th></th>\n",
       "      <th>ID</th>\n",
       "      <th>name</th>\n",
       "      <th>category</th>\n",
       "      <th>review.point</th>\n",
       "      <th>price</th>\n",
       "      <th>currency</th>\n",
       "      <th>description</th>\n",
       "    </tr>\n",
       "  </thead>\n",
       "  <tbody>\n",
       "    <tr>\n",
       "      <th>0</th>\n",
       "      <td>1</td>\n",
       "      <td>Johnnie Walker Blue Label, 40%</td>\n",
       "      <td>Blended Scotch Whisky</td>\n",
       "      <td>97</td>\n",
       "      <td>225</td>\n",
       "      <td>$</td>\n",
       "      <td>Magnificently powerful and intense. Caramels, ...</td>\n",
       "    </tr>\n",
       "    <tr>\n",
       "      <th>1</th>\n",
       "      <td>2</td>\n",
       "      <td>Black Bowmore, 1964 vintage, 42 year old, 40.5%</td>\n",
       "      <td>Single Malt Scotch</td>\n",
       "      <td>97</td>\n",
       "      <td>4500</td>\n",
       "      <td>$</td>\n",
       "      <td>What impresses me most is how this whisky evol...</td>\n",
       "    </tr>\n",
       "    <tr>\n",
       "      <th>2</th>\n",
       "      <td>3</td>\n",
       "      <td>Bowmore 46 year old (distilled 1964), 42.9%</td>\n",
       "      <td>Single Malt Scotch</td>\n",
       "      <td>97</td>\n",
       "      <td>13500</td>\n",
       "      <td>$</td>\n",
       "      <td>There have been some legendary Bowmores from t...</td>\n",
       "    </tr>\n",
       "    <tr>\n",
       "      <th>3</th>\n",
       "      <td>4</td>\n",
       "      <td>Compass Box The General, 53.4%</td>\n",
       "      <td>Blended Malt Scotch Whisky</td>\n",
       "      <td>96</td>\n",
       "      <td>325</td>\n",
       "      <td>$</td>\n",
       "      <td>With a name inspired by a 1926 Buster Keaton m...</td>\n",
       "    </tr>\n",
       "    <tr>\n",
       "      <th>4</th>\n",
       "      <td>5</td>\n",
       "      <td>Chivas Regal Ultis, 40%</td>\n",
       "      <td>Blended Malt Scotch Whisky</td>\n",
       "      <td>96</td>\n",
       "      <td>160</td>\n",
       "      <td>$</td>\n",
       "      <td>Captivating, enticing, and wonderfully charmin...</td>\n",
       "    </tr>\n",
       "  </tbody>\n",
       "</table>\n",
       "</div>"
      ],
      "text/plain": [
       "   ID                                             name  \\\n",
       "0   1                   Johnnie Walker Blue Label, 40%   \n",
       "1   2  Black Bowmore, 1964 vintage, 42 year old, 40.5%   \n",
       "2   3      Bowmore 46 year old (distilled 1964), 42.9%   \n",
       "3   4                   Compass Box The General, 53.4%   \n",
       "4   5                          Chivas Regal Ultis, 40%   \n",
       "\n",
       "                     category  review.point  price currency  \\\n",
       "0       Blended Scotch Whisky            97    225        $   \n",
       "1          Single Malt Scotch            97   4500        $   \n",
       "2          Single Malt Scotch            97  13500        $   \n",
       "3  Blended Malt Scotch Whisky            96    325        $   \n",
       "4  Blended Malt Scotch Whisky            96    160        $   \n",
       "\n",
       "                                         description  \n",
       "0  Magnificently powerful and intense. Caramels, ...  \n",
       "1  What impresses me most is how this whisky evol...  \n",
       "2  There have been some legendary Bowmores from t...  \n",
       "3  With a name inspired by a 1926 Buster Keaton m...  \n",
       "4  Captivating, enticing, and wonderfully charmin...  "
      ]
     },
     "execution_count": 2,
     "metadata": {},
     "output_type": "execute_result"
    }
   ],
   "source": [
    "# load the data\n",
    "df = pd.read_csv(dirname(d)+'/Data/whiskey_reviews.csv')\n",
    "\n",
    "df.head()\n",
    "#print(df.shape)"
   ]
  },
  {
   "cell_type": "code",
   "execution_count": 3,
   "metadata": {},
   "outputs": [
    {
     "name": "stdout",
     "output_type": "stream",
     "text": [
      "False\n",
      "$    2247\n",
      "Name: currency, dtype: int64\n"
     ]
    }
   ],
   "source": [
    "print(df.isnull().values.any()) #no missing values\n",
    "print(df['currency'].value_counts()) # can drop currency"
   ]
  },
  {
   "cell_type": "code",
   "execution_count": 4,
   "metadata": {},
   "outputs": [
    {
     "data": {
      "text/html": [
       "<div>\n",
       "<style scoped>\n",
       "    .dataframe tbody tr th:only-of-type {\n",
       "        vertical-align: middle;\n",
       "    }\n",
       "\n",
       "    .dataframe tbody tr th {\n",
       "        vertical-align: top;\n",
       "    }\n",
       "\n",
       "    .dataframe thead th {\n",
       "        text-align: right;\n",
       "    }\n",
       "</style>\n",
       "<table border=\"1\" class=\"dataframe\">\n",
       "  <thead>\n",
       "    <tr style=\"text-align: right;\">\n",
       "      <th></th>\n",
       "      <th>name</th>\n",
       "      <th>category</th>\n",
       "      <th>review.point</th>\n",
       "      <th>price</th>\n",
       "      <th>description</th>\n",
       "    </tr>\n",
       "  </thead>\n",
       "  <tbody>\n",
       "    <tr>\n",
       "      <th>0</th>\n",
       "      <td>Johnnie Walker Blue Label, 40%</td>\n",
       "      <td>Blended Scotch Whisky</td>\n",
       "      <td>97</td>\n",
       "      <td>225</td>\n",
       "      <td>Magnificently powerful and intense. Caramels, ...</td>\n",
       "    </tr>\n",
       "    <tr>\n",
       "      <th>1</th>\n",
       "      <td>Black Bowmore, 1964 vintage, 42 year old, 40.5%</td>\n",
       "      <td>Single Malt Scotch</td>\n",
       "      <td>97</td>\n",
       "      <td>4500</td>\n",
       "      <td>What impresses me most is how this whisky evol...</td>\n",
       "    </tr>\n",
       "    <tr>\n",
       "      <th>2</th>\n",
       "      <td>Bowmore 46 year old (distilled 1964), 42.9%</td>\n",
       "      <td>Single Malt Scotch</td>\n",
       "      <td>97</td>\n",
       "      <td>13500</td>\n",
       "      <td>There have been some legendary Bowmores from t...</td>\n",
       "    </tr>\n",
       "    <tr>\n",
       "      <th>3</th>\n",
       "      <td>Compass Box The General, 53.4%</td>\n",
       "      <td>Blended Malt Scotch Whisky</td>\n",
       "      <td>96</td>\n",
       "      <td>325</td>\n",
       "      <td>With a name inspired by a 1926 Buster Keaton m...</td>\n",
       "    </tr>\n",
       "    <tr>\n",
       "      <th>4</th>\n",
       "      <td>Chivas Regal Ultis, 40%</td>\n",
       "      <td>Blended Malt Scotch Whisky</td>\n",
       "      <td>96</td>\n",
       "      <td>160</td>\n",
       "      <td>Captivating, enticing, and wonderfully charmin...</td>\n",
       "    </tr>\n",
       "  </tbody>\n",
       "</table>\n",
       "</div>"
      ],
      "text/plain": [
       "                                              name  \\\n",
       "0                   Johnnie Walker Blue Label, 40%   \n",
       "1  Black Bowmore, 1964 vintage, 42 year old, 40.5%   \n",
       "2      Bowmore 46 year old (distilled 1964), 42.9%   \n",
       "3                   Compass Box The General, 53.4%   \n",
       "4                          Chivas Regal Ultis, 40%   \n",
       "\n",
       "                     category  review.point  price  \\\n",
       "0       Blended Scotch Whisky            97    225   \n",
       "1          Single Malt Scotch            97   4500   \n",
       "2          Single Malt Scotch            97  13500   \n",
       "3  Blended Malt Scotch Whisky            96    325   \n",
       "4  Blended Malt Scotch Whisky            96    160   \n",
       "\n",
       "                                         description  \n",
       "0  Magnificently powerful and intense. Caramels, ...  \n",
       "1  What impresses me most is how this whisky evol...  \n",
       "2  There have been some legendary Bowmores from t...  \n",
       "3  With a name inspired by a 1926 Buster Keaton m...  \n",
       "4  Captivating, enticing, and wonderfully charmin...  "
      ]
     },
     "execution_count": 4,
     "metadata": {},
     "output_type": "execute_result"
    }
   ],
   "source": [
    "df.drop(columns=['ID','currency'],inplace=True)\n",
    "df.head()"
   ]
  },
  {
   "cell_type": "code",
   "execution_count": 5,
   "metadata": {},
   "outputs": [
    {
     "data": {
      "text/html": [
       "<div>\n",
       "<style scoped>\n",
       "    .dataframe tbody tr th:only-of-type {\n",
       "        vertical-align: middle;\n",
       "    }\n",
       "\n",
       "    .dataframe tbody tr th {\n",
       "        vertical-align: top;\n",
       "    }\n",
       "\n",
       "    .dataframe thead th {\n",
       "        text-align: right;\n",
       "    }\n",
       "</style>\n",
       "<table border=\"1\" class=\"dataframe\">\n",
       "  <thead>\n",
       "    <tr style=\"text-align: right;\">\n",
       "      <th></th>\n",
       "      <th>name</th>\n",
       "      <th>category</th>\n",
       "      <th>review.point</th>\n",
       "      <th>price</th>\n",
       "      <th>description</th>\n",
       "      <th>percent</th>\n",
       "    </tr>\n",
       "  </thead>\n",
       "  <tbody>\n",
       "    <tr>\n",
       "      <th>0</th>\n",
       "      <td>Johnnie Walker Blue Label, 40%</td>\n",
       "      <td>Blended Scotch Whisky</td>\n",
       "      <td>97</td>\n",
       "      <td>225</td>\n",
       "      <td>Magnificently powerful and intense. Caramels, ...</td>\n",
       "      <td>40.0</td>\n",
       "    </tr>\n",
       "    <tr>\n",
       "      <th>1</th>\n",
       "      <td>Black Bowmore, 1964 vintage, 42 year old, 40.5%</td>\n",
       "      <td>Single Malt Scotch</td>\n",
       "      <td>97</td>\n",
       "      <td>4500</td>\n",
       "      <td>What impresses me most is how this whisky evol...</td>\n",
       "      <td>40.5</td>\n",
       "    </tr>\n",
       "    <tr>\n",
       "      <th>2</th>\n",
       "      <td>Bowmore 46 year old (distilled 1964), 42.9%</td>\n",
       "      <td>Single Malt Scotch</td>\n",
       "      <td>97</td>\n",
       "      <td>13500</td>\n",
       "      <td>There have been some legendary Bowmores from t...</td>\n",
       "      <td>42.9</td>\n",
       "    </tr>\n",
       "    <tr>\n",
       "      <th>3</th>\n",
       "      <td>Compass Box The General, 53.4%</td>\n",
       "      <td>Blended Malt Scotch Whisky</td>\n",
       "      <td>96</td>\n",
       "      <td>325</td>\n",
       "      <td>With a name inspired by a 1926 Buster Keaton m...</td>\n",
       "      <td>53.4</td>\n",
       "    </tr>\n",
       "    <tr>\n",
       "      <th>4</th>\n",
       "      <td>Chivas Regal Ultis, 40%</td>\n",
       "      <td>Blended Malt Scotch Whisky</td>\n",
       "      <td>96</td>\n",
       "      <td>160</td>\n",
       "      <td>Captivating, enticing, and wonderfully charmin...</td>\n",
       "      <td>40.0</td>\n",
       "    </tr>\n",
       "  </tbody>\n",
       "</table>\n",
       "</div>"
      ],
      "text/plain": [
       "                                              name  \\\n",
       "0                   Johnnie Walker Blue Label, 40%   \n",
       "1  Black Bowmore, 1964 vintage, 42 year old, 40.5%   \n",
       "2      Bowmore 46 year old (distilled 1964), 42.9%   \n",
       "3                   Compass Box The General, 53.4%   \n",
       "4                          Chivas Regal Ultis, 40%   \n",
       "\n",
       "                     category  review.point  price  \\\n",
       "0       Blended Scotch Whisky            97    225   \n",
       "1          Single Malt Scotch            97   4500   \n",
       "2          Single Malt Scotch            97  13500   \n",
       "3  Blended Malt Scotch Whisky            96    325   \n",
       "4  Blended Malt Scotch Whisky            96    160   \n",
       "\n",
       "                                         description  percent  \n",
       "0  Magnificently powerful and intense. Caramels, ...     40.0  \n",
       "1  What impresses me most is how this whisky evol...     40.5  \n",
       "2  There have been some legendary Bowmores from t...     42.9  \n",
       "3  With a name inspired by a 1926 Buster Keaton m...     53.4  \n",
       "4  Captivating, enticing, and wonderfully charmin...     40.0  "
      ]
     },
     "execution_count": 5,
     "metadata": {},
     "output_type": "execute_result"
    }
   ],
   "source": [
    "percent=[re.findall(r\"([0-9]+\\.?[0-9]*)%\",i) for i in df.name]\n",
    "percent\n",
    "\n",
    "percentll = [i[0] for i in [i or [0] for i in percent]]\n",
    "\n",
    "#flat_list = [item for sublist in percent for item in sublist]\n",
    "#len(flat_list)\n",
    "percentll\n",
    "\n",
    "df['percent'] = percentll\n",
    "df['percent'] = df['percent'].astype(float)\n",
    "df.head()"
   ]
  },
  {
   "cell_type": "code",
   "execution_count": 6,
   "metadata": {},
   "outputs": [
    {
     "name": "stdout",
     "output_type": "stream",
     "text": [
      "16\n"
     ]
    }
   ],
   "source": [
    "df[df.percent==0]\n",
    "print(len(df[df.percent==0]))"
   ]
  },
  {
   "cell_type": "code",
   "execution_count": 12,
   "metadata": {},
   "outputs": [
    {
     "data": {
      "text/html": [
       "<div>\n",
       "<style scoped>\n",
       "    .dataframe tbody tr th:only-of-type {\n",
       "        vertical-align: middle;\n",
       "    }\n",
       "\n",
       "    .dataframe tbody tr th {\n",
       "        vertical-align: top;\n",
       "    }\n",
       "\n",
       "    .dataframe thead th {\n",
       "        text-align: right;\n",
       "    }\n",
       "</style>\n",
       "<table border=\"1\" class=\"dataframe\">\n",
       "  <thead>\n",
       "    <tr style=\"text-align: right;\">\n",
       "      <th></th>\n",
       "      <th>name</th>\n",
       "      <th>category</th>\n",
       "      <th>review.point</th>\n",
       "      <th>price</th>\n",
       "      <th>description</th>\n",
       "      <th>percent</th>\n",
       "    </tr>\n",
       "  </thead>\n",
       "  <tbody>\n",
       "  </tbody>\n",
       "</table>\n",
       "</div>"
      ],
      "text/plain": [
       "Empty DataFrame\n",
       "Columns: [name, category, review.point, price, description, percent]\n",
       "Index: []"
      ]
     },
     "execution_count": 12,
     "metadata": {},
     "output_type": "execute_result"
    }
   ],
   "source": [
    "df.loc[df.name == 'Ardbeg An Oa','percent' ] = 46.6\n",
    "df.loc[df.name == 'Balvenie 1973 Vintage, 30 year old, Cask #9219','percent' ] = 47.3\n",
    "df.loc[df.name == 'Bowmore Oloroso Sherry Cask, 1964 Vintage','percent' ] = 42.9\n",
    "df.loc[df.name == 'Scott','percent'] = 45\n",
    "df.loc[df.name == 'Compass Box Hedonism Maximus','percent'] = 46\n",
    "df.loc[df.name == 'Cadenhead','percent'] = 46\n",
    "df.loc[df.name == 'Glenfarclas £511. 19s. 0d.','percent'] = 60\n",
    "\n",
    "df.loc[668,'percent'] = 46\n",
    "df.loc[909, 'percent']= 55\n",
    "df.loc[984, 'percent'] = 43\n",
    "\n",
    "\n",
    "df.loc[df.name == 'Ardmore Traditional Cask 1998','percent'] = 44.9\n",
    "\n",
    "df.loc[1002, 'percent'] = 46\n",
    "df.loc[1504, 'percent']= 46\n",
    "df.loc[1647, 'percent']= 57.1\n",
    "df.loc[1956, 'percent']= 40\n",
    "df.loc[2034, 'percent']=53.5\n",
    "\n",
    "\n",
    "df[df.percent==0]"
   ]
  },
  {
   "cell_type": "code",
   "execution_count": 217,
   "metadata": {},
   "outputs": [
    {
     "name": "stdout",
     "output_type": "stream",
     "text": [
      "Single Malt Scotch            0.809524\n",
      "Blended Scotch Whisky         0.093903\n",
      "Blended Malt Scotch Whisky    0.058745\n",
      "Single Grain Whisky           0.025367\n",
      "Grain Scotch Whisky           0.012461\n",
      "Name: category, dtype: float64\n"
     ]
    }
   ],
   "source": [
    "print(df['category'].value_counts(normalize=True))"
   ]
  },
  {
   "cell_type": "code",
   "execution_count": 14,
   "metadata": {},
   "outputs": [
    {
     "data": {
      "text/plain": [
       "count     2247\n",
       "unique     453\n",
       "top        100\n",
       "freq        85\n",
       "Name: price, dtype: object"
      ]
     },
     "execution_count": 14,
     "metadata": {},
     "output_type": "execute_result"
    }
   ],
   "source": [
    "df['price'].describe()"
   ]
  },
  {
   "cell_type": "code",
   "execution_count": 18,
   "metadata": {},
   "outputs": [],
   "source": [
    "df['price'] = df['price'].replace(['$15,000 or $60,000/set'], '15000')\n",
    "df['price'] = df['price'].replace(['60000/set'], '60000')\n",
    "df['price'] = df['price'].replace(['44/liter'], '44')\n",
    "\n",
    "df['price']=df['price'].apply(lambda x:x.replace(',',''))\n",
    "df['price']=df['price'].apply(lambda x:x.replace('.',''))\n",
    "\n",
    "df['description']=df['description'].apply(lambda x:x.replace(',',''))\n",
    "df['description']=df['description'].apply(lambda x:x.replace(')',''))\n",
    "df['description']=df['description'].apply(lambda x:x.replace('(',''))\n",
    "df['description']=df['description'].apply(lambda x:x.replace('.',''))\n",
    "df['description']=df['description'].apply(lambda x:x.replace('!',''))\n",
    "df['description']=df['description'].apply(lambda x:x.replace(':',''))\n",
    "df['description']=df['description'].apply(lambda x:x.replace(';',''))\n",
    "df['description']=df['description'].apply(lambda x:x.replace('-',''))\n",
    "df['description']=df['description'].apply(lambda x:x.replace('—',''))\n",
    "\n",
    "df['name']=df['name'].apply(lambda x:x.replace(')',''))\n",
    "df['name']=df['name'].apply(lambda x:x.replace('(',''))\n",
    "df['name']=df['name'].apply(lambda x:x.replace('!',''))\n",
    "df['name']=df['name'].apply(lambda x:x.replace(':',''))\n",
    "df['name']=df['name'].apply(lambda x:x.replace(';',''))\n"
   ]
  },
  {
   "cell_type": "code",
   "execution_count": 19,
   "metadata": {},
   "outputs": [
    {
     "data": {
      "text/plain": [
       "count      2247.000000\n",
       "mean        709.205607\n",
       "std        5660.577607\n",
       "min          12.000000\n",
       "25%          70.000000\n",
       "50%         110.000000\n",
       "75%         200.000000\n",
       "max      157000.000000\n",
       "Name: price, dtype: float64"
      ]
     },
     "execution_count": 19,
     "metadata": {},
     "output_type": "execute_result"
    }
   ],
   "source": [
    "df['price'] = df['price'].astype(float)\n",
    "df['price'].describe()"
   ]
  },
  {
   "cell_type": "code",
   "execution_count": 20,
   "metadata": {},
   "outputs": [
    {
     "data": {
      "text/plain": [
       "count    2247.000000\n",
       "mean       86.700045\n",
       "std         4.054055\n",
       "min        63.000000\n",
       "25%        84.000000\n",
       "50%        87.000000\n",
       "75%        90.000000\n",
       "max        97.000000\n",
       "Name: review.point, dtype: float64"
      ]
     },
     "execution_count": 20,
     "metadata": {},
     "output_type": "execute_result"
    }
   ],
   "source": [
    "df['review.point'].describe()"
   ]
  },
  {
   "cell_type": "code",
   "execution_count": 21,
   "metadata": {},
   "outputs": [
    {
     "data": {
      "text/html": [
       "<div>\n",
       "<style scoped>\n",
       "    .dataframe tbody tr th:only-of-type {\n",
       "        vertical-align: middle;\n",
       "    }\n",
       "\n",
       "    .dataframe tbody tr th {\n",
       "        vertical-align: top;\n",
       "    }\n",
       "\n",
       "    .dataframe thead th {\n",
       "        text-align: right;\n",
       "    }\n",
       "</style>\n",
       "<table border=\"1\" class=\"dataframe\">\n",
       "  <thead>\n",
       "    <tr style=\"text-align: right;\">\n",
       "      <th></th>\n",
       "      <th>x0_Blended Malt Scotch Whisky</th>\n",
       "      <th>x0_Blended Scotch Whisky</th>\n",
       "      <th>x0_Grain Scotch Whisky</th>\n",
       "      <th>x0_Single Grain Whisky</th>\n",
       "      <th>x0_Single Malt Scotch</th>\n",
       "    </tr>\n",
       "  </thead>\n",
       "  <tbody>\n",
       "    <tr>\n",
       "      <th>0</th>\n",
       "      <td>0.0</td>\n",
       "      <td>1.0</td>\n",
       "      <td>0.0</td>\n",
       "      <td>0.0</td>\n",
       "      <td>0.0</td>\n",
       "    </tr>\n",
       "    <tr>\n",
       "      <th>1</th>\n",
       "      <td>0.0</td>\n",
       "      <td>0.0</td>\n",
       "      <td>0.0</td>\n",
       "      <td>0.0</td>\n",
       "      <td>1.0</td>\n",
       "    </tr>\n",
       "    <tr>\n",
       "      <th>2</th>\n",
       "      <td>0.0</td>\n",
       "      <td>0.0</td>\n",
       "      <td>0.0</td>\n",
       "      <td>0.0</td>\n",
       "      <td>1.0</td>\n",
       "    </tr>\n",
       "    <tr>\n",
       "      <th>3</th>\n",
       "      <td>1.0</td>\n",
       "      <td>0.0</td>\n",
       "      <td>0.0</td>\n",
       "      <td>0.0</td>\n",
       "      <td>0.0</td>\n",
       "    </tr>\n",
       "    <tr>\n",
       "      <th>4</th>\n",
       "      <td>1.0</td>\n",
       "      <td>0.0</td>\n",
       "      <td>0.0</td>\n",
       "      <td>0.0</td>\n",
       "      <td>0.0</td>\n",
       "    </tr>\n",
       "  </tbody>\n",
       "</table>\n",
       "</div>"
      ],
      "text/plain": [
       "   x0_Blended Malt Scotch Whisky  x0_Blended Scotch Whisky  \\\n",
       "0                            0.0                       1.0   \n",
       "1                            0.0                       0.0   \n",
       "2                            0.0                       0.0   \n",
       "3                            1.0                       0.0   \n",
       "4                            1.0                       0.0   \n",
       "\n",
       "   x0_Grain Scotch Whisky  x0_Single Grain Whisky  x0_Single Malt Scotch  \n",
       "0                     0.0                     0.0                    0.0  \n",
       "1                     0.0                     0.0                    1.0  \n",
       "2                     0.0                     0.0                    1.0  \n",
       "3                     0.0                     0.0                    0.0  \n",
       "4                     0.0                     0.0                    0.0  "
      ]
     },
     "execution_count": 21,
     "metadata": {},
     "output_type": "execute_result"
    }
   ],
   "source": [
    "hotenc=OneHotEncoder(sparse=False)\n",
    "\n",
    "df['category'].unique()\n",
    "\n",
    "df_cat=hotenc.fit_transform(df[['category']])\n",
    "hotenc.get_feature_names()\n",
    "\n",
    "df_cat= pd.DataFrame(df_cat)\n",
    "df_cat.columns = hotenc.get_feature_names()\n",
    "\n",
    "df_cat.head()"
   ]
  },
  {
   "cell_type": "code",
   "execution_count": 22,
   "metadata": {},
   "outputs": [
    {
     "data": {
      "text/html": [
       "<div>\n",
       "<style scoped>\n",
       "    .dataframe tbody tr th:only-of-type {\n",
       "        vertical-align: middle;\n",
       "    }\n",
       "\n",
       "    .dataframe tbody tr th {\n",
       "        vertical-align: top;\n",
       "    }\n",
       "\n",
       "    .dataframe thead th {\n",
       "        text-align: right;\n",
       "    }\n",
       "</style>\n",
       "<table border=\"1\" class=\"dataframe\">\n",
       "  <thead>\n",
       "    <tr style=\"text-align: right;\">\n",
       "      <th></th>\n",
       "      <th>name</th>\n",
       "      <th>category</th>\n",
       "      <th>review.point</th>\n",
       "      <th>price</th>\n",
       "      <th>description</th>\n",
       "      <th>percent</th>\n",
       "    </tr>\n",
       "  </thead>\n",
       "  <tbody>\n",
       "    <tr>\n",
       "      <th>0</th>\n",
       "      <td>Johnnie Walker Blue Label, 40%</td>\n",
       "      <td>Blended Scotch Whisky</td>\n",
       "      <td>97</td>\n",
       "      <td>225.0</td>\n",
       "      <td>Magnificently powerful and intense Caramels dr...</td>\n",
       "      <td>40.0</td>\n",
       "    </tr>\n",
       "    <tr>\n",
       "      <th>1</th>\n",
       "      <td>Black Bowmore, 1964 vintage, 42 year old, 40.5%</td>\n",
       "      <td>Single Malt Scotch</td>\n",
       "      <td>97</td>\n",
       "      <td>4500.0</td>\n",
       "      <td>What impresses me most is how this whisky evol...</td>\n",
       "      <td>40.5</td>\n",
       "    </tr>\n",
       "    <tr>\n",
       "      <th>2</th>\n",
       "      <td>Bowmore 46 year old distilled 1964, 42.9%</td>\n",
       "      <td>Single Malt Scotch</td>\n",
       "      <td>97</td>\n",
       "      <td>13500.0</td>\n",
       "      <td>There have been some legendary Bowmores from t...</td>\n",
       "      <td>42.9</td>\n",
       "    </tr>\n",
       "    <tr>\n",
       "      <th>3</th>\n",
       "      <td>Compass Box The General, 53.4%</td>\n",
       "      <td>Blended Malt Scotch Whisky</td>\n",
       "      <td>96</td>\n",
       "      <td>325.0</td>\n",
       "      <td>With a name inspired by a 1926 Buster Keaton m...</td>\n",
       "      <td>53.4</td>\n",
       "    </tr>\n",
       "    <tr>\n",
       "      <th>4</th>\n",
       "      <td>Chivas Regal Ultis, 40%</td>\n",
       "      <td>Blended Malt Scotch Whisky</td>\n",
       "      <td>96</td>\n",
       "      <td>160.0</td>\n",
       "      <td>Captivating enticing and wonderfully charming ...</td>\n",
       "      <td>40.0</td>\n",
       "    </tr>\n",
       "  </tbody>\n",
       "</table>\n",
       "</div>"
      ],
      "text/plain": [
       "                                              name  \\\n",
       "0                   Johnnie Walker Blue Label, 40%   \n",
       "1  Black Bowmore, 1964 vintage, 42 year old, 40.5%   \n",
       "2        Bowmore 46 year old distilled 1964, 42.9%   \n",
       "3                   Compass Box The General, 53.4%   \n",
       "4                          Chivas Regal Ultis, 40%   \n",
       "\n",
       "                     category  review.point    price  \\\n",
       "0       Blended Scotch Whisky            97    225.0   \n",
       "1          Single Malt Scotch            97   4500.0   \n",
       "2          Single Malt Scotch            97  13500.0   \n",
       "3  Blended Malt Scotch Whisky            96    325.0   \n",
       "4  Blended Malt Scotch Whisky            96    160.0   \n",
       "\n",
       "                                         description  percent  \n",
       "0  Magnificently powerful and intense Caramels dr...     40.0  \n",
       "1  What impresses me most is how this whisky evol...     40.5  \n",
       "2  There have been some legendary Bowmores from t...     42.9  \n",
       "3  With a name inspired by a 1926 Buster Keaton m...     53.4  \n",
       "4  Captivating enticing and wonderfully charming ...     40.0  "
      ]
     },
     "execution_count": 22,
     "metadata": {},
     "output_type": "execute_result"
    }
   ],
   "source": [
    "#create new dataset with preprocessing and hot encoding\n",
    "dfpre=df.copy()\n",
    "df.head()"
   ]
  },
  {
   "cell_type": "code",
   "execution_count": 23,
   "metadata": {},
   "outputs": [],
   "source": [
    "dfpre.drop(['category'],axis=1, inplace=True)\n",
    "dfpre=pd.concat([dfpre,df_cat],axis=1)"
   ]
  },
  {
   "cell_type": "code",
   "execution_count": 24,
   "metadata": {},
   "outputs": [
    {
     "data": {
      "text/html": [
       "<div>\n",
       "<style scoped>\n",
       "    .dataframe tbody tr th:only-of-type {\n",
       "        vertical-align: middle;\n",
       "    }\n",
       "\n",
       "    .dataframe tbody tr th {\n",
       "        vertical-align: top;\n",
       "    }\n",
       "\n",
       "    .dataframe thead th {\n",
       "        text-align: right;\n",
       "    }\n",
       "</style>\n",
       "<table border=\"1\" class=\"dataframe\">\n",
       "  <thead>\n",
       "    <tr style=\"text-align: right;\">\n",
       "      <th></th>\n",
       "      <th>name</th>\n",
       "      <th>review.point</th>\n",
       "      <th>price</th>\n",
       "      <th>description</th>\n",
       "      <th>percent</th>\n",
       "      <th>x0_Blended Malt Scotch Whisky</th>\n",
       "      <th>x0_Blended Scotch Whisky</th>\n",
       "      <th>x0_Grain Scotch Whisky</th>\n",
       "      <th>x0_Single Grain Whisky</th>\n",
       "      <th>x0_Single Malt Scotch</th>\n",
       "    </tr>\n",
       "  </thead>\n",
       "  <tbody>\n",
       "    <tr>\n",
       "      <th>0</th>\n",
       "      <td>Johnnie Walker Blue Label, 40%</td>\n",
       "      <td>97</td>\n",
       "      <td>225.0</td>\n",
       "      <td>Magnificently powerful and intense Caramels dr...</td>\n",
       "      <td>40.0</td>\n",
       "      <td>0.0</td>\n",
       "      <td>1.0</td>\n",
       "      <td>0.0</td>\n",
       "      <td>0.0</td>\n",
       "      <td>0.0</td>\n",
       "    </tr>\n",
       "    <tr>\n",
       "      <th>1</th>\n",
       "      <td>Black Bowmore, 1964 vintage, 42 year old, 40.5%</td>\n",
       "      <td>97</td>\n",
       "      <td>4500.0</td>\n",
       "      <td>What impresses me most is how this whisky evol...</td>\n",
       "      <td>40.5</td>\n",
       "      <td>0.0</td>\n",
       "      <td>0.0</td>\n",
       "      <td>0.0</td>\n",
       "      <td>0.0</td>\n",
       "      <td>1.0</td>\n",
       "    </tr>\n",
       "    <tr>\n",
       "      <th>2</th>\n",
       "      <td>Bowmore 46 year old distilled 1964, 42.9%</td>\n",
       "      <td>97</td>\n",
       "      <td>13500.0</td>\n",
       "      <td>There have been some legendary Bowmores from t...</td>\n",
       "      <td>42.9</td>\n",
       "      <td>0.0</td>\n",
       "      <td>0.0</td>\n",
       "      <td>0.0</td>\n",
       "      <td>0.0</td>\n",
       "      <td>1.0</td>\n",
       "    </tr>\n",
       "    <tr>\n",
       "      <th>3</th>\n",
       "      <td>Compass Box The General, 53.4%</td>\n",
       "      <td>96</td>\n",
       "      <td>325.0</td>\n",
       "      <td>With a name inspired by a 1926 Buster Keaton m...</td>\n",
       "      <td>53.4</td>\n",
       "      <td>1.0</td>\n",
       "      <td>0.0</td>\n",
       "      <td>0.0</td>\n",
       "      <td>0.0</td>\n",
       "      <td>0.0</td>\n",
       "    </tr>\n",
       "    <tr>\n",
       "      <th>4</th>\n",
       "      <td>Chivas Regal Ultis, 40%</td>\n",
       "      <td>96</td>\n",
       "      <td>160.0</td>\n",
       "      <td>Captivating enticing and wonderfully charming ...</td>\n",
       "      <td>40.0</td>\n",
       "      <td>1.0</td>\n",
       "      <td>0.0</td>\n",
       "      <td>0.0</td>\n",
       "      <td>0.0</td>\n",
       "      <td>0.0</td>\n",
       "    </tr>\n",
       "  </tbody>\n",
       "</table>\n",
       "</div>"
      ],
      "text/plain": [
       "                                              name  review.point    price  \\\n",
       "0                   Johnnie Walker Blue Label, 40%            97    225.0   \n",
       "1  Black Bowmore, 1964 vintage, 42 year old, 40.5%            97   4500.0   \n",
       "2        Bowmore 46 year old distilled 1964, 42.9%            97  13500.0   \n",
       "3                   Compass Box The General, 53.4%            96    325.0   \n",
       "4                          Chivas Regal Ultis, 40%            96    160.0   \n",
       "\n",
       "                                         description  percent  \\\n",
       "0  Magnificently powerful and intense Caramels dr...     40.0   \n",
       "1  What impresses me most is how this whisky evol...     40.5   \n",
       "2  There have been some legendary Bowmores from t...     42.9   \n",
       "3  With a name inspired by a 1926 Buster Keaton m...     53.4   \n",
       "4  Captivating enticing and wonderfully charming ...     40.0   \n",
       "\n",
       "   x0_Blended Malt Scotch Whisky  x0_Blended Scotch Whisky  \\\n",
       "0                            0.0                       1.0   \n",
       "1                            0.0                       0.0   \n",
       "2                            0.0                       0.0   \n",
       "3                            1.0                       0.0   \n",
       "4                            1.0                       0.0   \n",
       "\n",
       "   x0_Grain Scotch Whisky  x0_Single Grain Whisky  x0_Single Malt Scotch  \n",
       "0                     0.0                     0.0                    0.0  \n",
       "1                     0.0                     0.0                    1.0  \n",
       "2                     0.0                     0.0                    1.0  \n",
       "3                     0.0                     0.0                    0.0  \n",
       "4                     0.0                     0.0                    0.0  "
      ]
     },
     "execution_count": 24,
     "metadata": {},
     "output_type": "execute_result"
    }
   ],
   "source": [
    "dfpre.head()"
   ]
  },
  {
   "cell_type": "code",
   "execution_count": 25,
   "metadata": {},
   "outputs": [],
   "source": [
    "sscaler = StandardScaler()\n",
    "mmscaler = MinMaxScaler()"
   ]
  },
  {
   "cell_type": "code",
   "execution_count": 26,
   "metadata": {},
   "outputs": [],
   "source": [
    "dfpre[['review.point']]=mmscaler.fit_transform(dfpre[['review.point']])\n",
    "dfpre[['percent']]=sscaler.fit_transform(dfpre[['percent']])\n",
    "dfpre[['price']]=sscaler.fit_transform(dfpre[['price']])"
   ]
  },
  {
   "cell_type": "code",
   "execution_count": 108,
   "metadata": {},
   "outputs": [
    {
     "data": {
      "text/html": [
       "<div>\n",
       "<style scoped>\n",
       "    .dataframe tbody tr th:only-of-type {\n",
       "        vertical-align: middle;\n",
       "    }\n",
       "\n",
       "    .dataframe tbody tr th {\n",
       "        vertical-align: top;\n",
       "    }\n",
       "\n",
       "    .dataframe thead th {\n",
       "        text-align: right;\n",
       "    }\n",
       "</style>\n",
       "<table border=\"1\" class=\"dataframe\">\n",
       "  <thead>\n",
       "    <tr style=\"text-align: right;\">\n",
       "      <th></th>\n",
       "      <th>name</th>\n",
       "      <th>review.point</th>\n",
       "      <th>price</th>\n",
       "      <th>description</th>\n",
       "      <th>percent</th>\n",
       "      <th>x0_Blended Malt Scotch Whisky</th>\n",
       "      <th>x0_Blended Scotch Whisky</th>\n",
       "      <th>x0_Grain Scotch Whisky</th>\n",
       "      <th>x0_Single Grain Whisky</th>\n",
       "      <th>x0_Single Malt Scotch</th>\n",
       "    </tr>\n",
       "  </thead>\n",
       "  <tbody>\n",
       "    <tr>\n",
       "      <th>0</th>\n",
       "      <td>johnnie walker blue label, 40%</td>\n",
       "      <td>1.000000</td>\n",
       "      <td>-0.085559</td>\n",
       "      <td>magnificently powerful and intense caramels dr...</td>\n",
       "      <td>-1.276825</td>\n",
       "      <td>0.0</td>\n",
       "      <td>1.0</td>\n",
       "      <td>0.0</td>\n",
       "      <td>0.0</td>\n",
       "      <td>0.0</td>\n",
       "    </tr>\n",
       "    <tr>\n",
       "      <th>1</th>\n",
       "      <td>black bowmore, 1964 vintage, 42 year old, 40.5%</td>\n",
       "      <td>1.000000</td>\n",
       "      <td>0.669832</td>\n",
       "      <td>what impresses me most is how this whisky evol...</td>\n",
       "      <td>-1.196793</td>\n",
       "      <td>0.0</td>\n",
       "      <td>0.0</td>\n",
       "      <td>0.0</td>\n",
       "      <td>0.0</td>\n",
       "      <td>1.0</td>\n",
       "    </tr>\n",
       "    <tr>\n",
       "      <th>2</th>\n",
       "      <td>bowmore 46 year old distilled 1964, 42.9%</td>\n",
       "      <td>1.000000</td>\n",
       "      <td>2.260130</td>\n",
       "      <td>there have been some legendary bowmores from t...</td>\n",
       "      <td>-0.812641</td>\n",
       "      <td>0.0</td>\n",
       "      <td>0.0</td>\n",
       "      <td>0.0</td>\n",
       "      <td>0.0</td>\n",
       "      <td>1.0</td>\n",
       "    </tr>\n",
       "    <tr>\n",
       "      <th>3</th>\n",
       "      <td>compass box the general, 53.4%</td>\n",
       "      <td>0.970588</td>\n",
       "      <td>-0.067889</td>\n",
       "      <td>with a name inspired by a 1926 buster keaton m...</td>\n",
       "      <td>0.868027</td>\n",
       "      <td>1.0</td>\n",
       "      <td>0.0</td>\n",
       "      <td>0.0</td>\n",
       "      <td>0.0</td>\n",
       "      <td>0.0</td>\n",
       "    </tr>\n",
       "    <tr>\n",
       "      <th>4</th>\n",
       "      <td>chivas regal ultis, 40%</td>\n",
       "      <td>0.970588</td>\n",
       "      <td>-0.097044</td>\n",
       "      <td>captivating enticing and wonderfully charming ...</td>\n",
       "      <td>-1.276825</td>\n",
       "      <td>1.0</td>\n",
       "      <td>0.0</td>\n",
       "      <td>0.0</td>\n",
       "      <td>0.0</td>\n",
       "      <td>0.0</td>\n",
       "    </tr>\n",
       "  </tbody>\n",
       "</table>\n",
       "</div>"
      ],
      "text/plain": [
       "                                              name  review.point     price  \\\n",
       "0                   johnnie walker blue label, 40%      1.000000 -0.085559   \n",
       "1  black bowmore, 1964 vintage, 42 year old, 40.5%      1.000000  0.669832   \n",
       "2        bowmore 46 year old distilled 1964, 42.9%      1.000000  2.260130   \n",
       "3                   compass box the general, 53.4%      0.970588 -0.067889   \n",
       "4                          chivas regal ultis, 40%      0.970588 -0.097044   \n",
       "\n",
       "                                         description   percent  \\\n",
       "0  magnificently powerful and intense caramels dr... -1.276825   \n",
       "1  what impresses me most is how this whisky evol... -1.196793   \n",
       "2  there have been some legendary bowmores from t... -0.812641   \n",
       "3  with a name inspired by a 1926 buster keaton m...  0.868027   \n",
       "4  captivating enticing and wonderfully charming ... -1.276825   \n",
       "\n",
       "   x0_Blended Malt Scotch Whisky  x0_Blended Scotch Whisky  \\\n",
       "0                            0.0                       1.0   \n",
       "1                            0.0                       0.0   \n",
       "2                            0.0                       0.0   \n",
       "3                            1.0                       0.0   \n",
       "4                            1.0                       0.0   \n",
       "\n",
       "   x0_Grain Scotch Whisky  x0_Single Grain Whisky  x0_Single Malt Scotch  \n",
       "0                     0.0                     0.0                    0.0  \n",
       "1                     0.0                     0.0                    1.0  \n",
       "2                     0.0                     0.0                    1.0  \n",
       "3                     0.0                     0.0                    0.0  \n",
       "4                     0.0                     0.0                    0.0  "
      ]
     },
     "execution_count": 108,
     "metadata": {},
     "output_type": "execute_result"
    }
   ],
   "source": [
    "# make sure all words are lowercase\n",
    "dfpre['description']=dfpre['description'].str.lower()\n",
    "dfpre['name']=dfpre['name'].str.lower()\n",
    "\n",
    "dfpre.to_csv(dirname(d)+'/Data/dfpre.csv', encoding='utf-8', index=False)\n",
    "dfpre.head()"
   ]
  },
  {
   "cell_type": "code",
   "execution_count": 95,
   "metadata": {},
   "outputs": [],
   "source": [
    "blended_malt_scotch=dfpre.loc[dfpre[\"x0_Blended Malt Scotch Whisky\"] == 1, ['description']]\n",
    "blended_scotch=dfpre.loc[dfpre[\"x0_Blended Scotch Whisky\"] == 1, ['description']]\n",
    "grain_scotch_=dfpre.loc[dfpre[\"x0_Grain Scotch Whisky\"] == 1, ['description']]\n",
    "single_grain_whisky=dfpre.loc[dfpre[\"x0_Single Grain Whisky\"] == 1, ['description']]\n",
    "single_malt_scotch=dfpre.loc[dfpre[\"x0_Single Malt Scotch\"] == 1, ['description']]\n"
   ]
  },
  {
   "cell_type": "code",
   "execution_count": 158,
   "metadata": {},
   "outputs": [
    {
     "data": {
      "text/html": [
       "<div>\n",
       "<style scoped>\n",
       "    .dataframe tbody tr th:only-of-type {\n",
       "        vertical-align: middle;\n",
       "    }\n",
       "\n",
       "    .dataframe tbody tr th {\n",
       "        vertical-align: top;\n",
       "    }\n",
       "\n",
       "    .dataframe thead th {\n",
       "        text-align: right;\n",
       "    }\n",
       "</style>\n",
       "<table border=\"1\" class=\"dataframe\">\n",
       "  <thead>\n",
       "    <tr style=\"text-align: right;\">\n",
       "      <th></th>\n",
       "      <th>description</th>\n",
       "    </tr>\n",
       "  </thead>\n",
       "  <tbody>\n",
       "    <tr>\n",
       "      <th>0</th>\n",
       "      <td>magnificently powerful and intense caramels dr...</td>\n",
       "    </tr>\n",
       "    <tr>\n",
       "      <th>14</th>\n",
       "      <td>as you’d expect solid peat is the first thing ...</td>\n",
       "    </tr>\n",
       "    <tr>\n",
       "      <th>15</th>\n",
       "      <td>formulated to celebrate the 200th anniversary ...</td>\n",
       "    </tr>\n",
       "    <tr>\n",
       "      <th>16</th>\n",
       "      <td>an essay in balance on both the aroma and pala...</td>\n",
       "    </tr>\n",
       "    <tr>\n",
       "      <th>35</th>\n",
       "      <td>a 12 year old blended whisky was created in 19...</td>\n",
       "    </tr>\n",
       "  </tbody>\n",
       "</table>\n",
       "</div>"
      ],
      "text/plain": [
       "                                          description\n",
       "0   magnificently powerful and intense caramels dr...\n",
       "14  as you’d expect solid peat is the first thing ...\n",
       "15  formulated to celebrate the 200th anniversary ...\n",
       "16  an essay in balance on both the aroma and pala...\n",
       "35  a 12 year old blended whisky was created in 19..."
      ]
     },
     "execution_count": 158,
     "metadata": {},
     "output_type": "execute_result"
    }
   ],
   "source": [
    "# convert dataframe column to a list\n",
    "descriptions=df[\"description\"].tolist()\n",
    "names=df[\"name\"].tolist()\n",
    "\n",
    "# lematize words, remove stopwords and numbers\n",
    "#dclean=tc.document(descriptions).remove_stpwrds()\n",
    "#dclean=tc.document(dclean).lemming()\n",
    "#dclean=tc.document(dclean).remove_numbers()\n",
    "blended_scotch.head()"
   ]
  },
  {
   "cell_type": "code",
   "execution_count": 124,
   "metadata": {},
   "outputs": [],
   "source": [
    "# BLENDED MALT SCOTCH\n",
    "cat1=blended_malt_scotch[\"description\"].tolist()\n",
    "cat1=tc.document(cat1).remove_stpwrds()\n",
    "cat1=tc.document(cat1).lemming()\n",
    "cat1=tc.document(cat1).remove_numbers()"
   ]
  },
  {
   "cell_type": "code",
   "execution_count": null,
   "metadata": {},
   "outputs": [],
   "source": [
    "#BLENDED SCOTCH\n",
    "cat2=blended_scotch[\"description\"].tolist()\n",
    "cat2=tc.document(cat2).remove_stpwrds()\n",
    "cat2=tc.document(cat2).lemming()\n",
    "cat2=tc.document(cat2).remove_numbers()"
   ]
  },
  {
   "cell_type": "code",
   "execution_count": 190,
   "metadata": {},
   "outputs": [],
   "source": [
    "#GRAIN SCOTCH\n",
    "cat3=grain_scotch_[\"description\"].tolist()\n",
    "cat3=tc.document(cat3).remove_stpwrds()\n",
    "cat3=tc.document(cat3).lemming()\n",
    "cat3=tc.document(cat3).remove_numbers()"
   ]
  },
  {
   "cell_type": "code",
   "execution_count": 192,
   "metadata": {},
   "outputs": [],
   "source": [
    "#single_grain_whisky\n",
    "cat4=single_grain_whisky[\"description\"].tolist()\n",
    "cat4=tc.document(cat4).remove_stpwrds()\n",
    "cat4=tc.document(cat4).lemming()\n",
    "cat4=tc.document(cat4).remove_numbers()"
   ]
  },
  {
   "cell_type": "code",
   "execution_count": 193,
   "metadata": {},
   "outputs": [],
   "source": [
    "#single_malt_scotch\n",
    "cat5=single_malt_scotch[\"description\"].tolist()\n",
    "cat5=tc.document(cat5).remove_stpwrds()\n",
    "cat5=tc.document(cat5).lemming()\n",
    "cat5=tc.document(cat5).remove_numbers()"
   ]
  },
  {
   "cell_type": "code",
   "execution_count": 139,
   "metadata": {},
   "outputs": [],
   "source": [
    "# create a dataframe from a word matrix\n",
    "def wm2df(wm, feat_names):\n",
    "    \n",
    "    # create an index for each row\n",
    "    doc_names = ['Doc{:d}'.format(idx) for idx, _ in enumerate(wm)]\n",
    "    df = pd.DataFrame(data=wm.toarray(), index=doc_names,\n",
    "                      columns=feat_names)\n",
    "    return(df)"
   ]
  },
  {
   "cell_type": "code",
   "execution_count": 196,
   "metadata": {},
   "outputs": [],
   "source": [
    "# instantiate the vectorizer object\n",
    "cvec = CountVectorizer(lowercase=False)\n",
    "\n",
    "# convert the documents into a document-term matrix\n",
    "wm = cvec.fit_transform(cat5)\n",
    "\n",
    "# retrieve the terms found in the corpora\n",
    "tokens = cvec.get_feature_names()\n",
    "\n",
    "# create a dataframe from the matrix\n",
    "cat5=wm2df(wm, tokens)\n",
    "\n",
    "cat5.to_csv(dirname(d)+'/Data/cat5.csv', encoding='utf-8', index=False)"
   ]
  },
  {
   "cell_type": "code",
   "execution_count": 200,
   "metadata": {},
   "outputs": [
    {
     "data": {
      "text/html": [
       "<div>\n",
       "<style scoped>\n",
       "    .dataframe tbody tr th:only-of-type {\n",
       "        vertical-align: middle;\n",
       "    }\n",
       "\n",
       "    .dataframe tbody tr th {\n",
       "        vertical-align: top;\n",
       "    }\n",
       "\n",
       "    .dataframe thead th {\n",
       "        text-align: right;\n",
       "    }\n",
       "</style>\n",
       "<table border=\"1\" class=\"dataframe\">\n",
       "  <thead>\n",
       "    <tr style=\"text-align: right;\">\n",
       "      <th></th>\n",
       "      <th>abound</th>\n",
       "      <th>according</th>\n",
       "      <th>acetone</th>\n",
       "      <th>active</th>\n",
       "      <th>actually</th>\n",
       "      <th>add</th>\n",
       "      <th>additional</th>\n",
       "      <th>adhesive</th>\n",
       "      <th>adrift</th>\n",
       "      <th>age</th>\n",
       "      <th>...</th>\n",
       "      <th>worth</th>\n",
       "      <th>would</th>\n",
       "      <th>ximénez</th>\n",
       "      <th>xop</th>\n",
       "      <th>year</th>\n",
       "      <th>you</th>\n",
       "      <th>young</th>\n",
       "      <th>youngster</th>\n",
       "      <th>zest</th>\n",
       "      <th>zinging</th>\n",
       "    </tr>\n",
       "  </thead>\n",
       "  <tbody>\n",
       "    <tr>\n",
       "      <th>Doc0</th>\n",
       "      <td>0</td>\n",
       "      <td>0</td>\n",
       "      <td>0</td>\n",
       "      <td>0</td>\n",
       "      <td>0</td>\n",
       "      <td>0</td>\n",
       "      <td>0</td>\n",
       "      <td>0</td>\n",
       "      <td>0</td>\n",
       "      <td>0</td>\n",
       "      <td>...</td>\n",
       "      <td>0</td>\n",
       "      <td>0</td>\n",
       "      <td>0</td>\n",
       "      <td>0</td>\n",
       "      <td>0</td>\n",
       "      <td>0</td>\n",
       "      <td>0</td>\n",
       "      <td>0</td>\n",
       "      <td>0</td>\n",
       "      <td>0</td>\n",
       "    </tr>\n",
       "    <tr>\n",
       "      <th>Doc1</th>\n",
       "      <td>0</td>\n",
       "      <td>0</td>\n",
       "      <td>0</td>\n",
       "      <td>0</td>\n",
       "      <td>0</td>\n",
       "      <td>0</td>\n",
       "      <td>0</td>\n",
       "      <td>0</td>\n",
       "      <td>0</td>\n",
       "      <td>0</td>\n",
       "      <td>...</td>\n",
       "      <td>0</td>\n",
       "      <td>0</td>\n",
       "      <td>0</td>\n",
       "      <td>0</td>\n",
       "      <td>0</td>\n",
       "      <td>0</td>\n",
       "      <td>0</td>\n",
       "      <td>0</td>\n",
       "      <td>0</td>\n",
       "      <td>0</td>\n",
       "    </tr>\n",
       "    <tr>\n",
       "      <th>Doc2</th>\n",
       "      <td>0</td>\n",
       "      <td>0</td>\n",
       "      <td>0</td>\n",
       "      <td>0</td>\n",
       "      <td>0</td>\n",
       "      <td>0</td>\n",
       "      <td>0</td>\n",
       "      <td>0</td>\n",
       "      <td>0</td>\n",
       "      <td>0</td>\n",
       "      <td>...</td>\n",
       "      <td>0</td>\n",
       "      <td>0</td>\n",
       "      <td>0</td>\n",
       "      <td>0</td>\n",
       "      <td>0</td>\n",
       "      <td>0</td>\n",
       "      <td>0</td>\n",
       "      <td>0</td>\n",
       "      <td>0</td>\n",
       "      <td>0</td>\n",
       "    </tr>\n",
       "    <tr>\n",
       "      <th>Doc3</th>\n",
       "      <td>0</td>\n",
       "      <td>0</td>\n",
       "      <td>0</td>\n",
       "      <td>0</td>\n",
       "      <td>0</td>\n",
       "      <td>0</td>\n",
       "      <td>0</td>\n",
       "      <td>0</td>\n",
       "      <td>0</td>\n",
       "      <td>0</td>\n",
       "      <td>...</td>\n",
       "      <td>0</td>\n",
       "      <td>0</td>\n",
       "      <td>0</td>\n",
       "      <td>0</td>\n",
       "      <td>0</td>\n",
       "      <td>0</td>\n",
       "      <td>0</td>\n",
       "      <td>0</td>\n",
       "      <td>0</td>\n",
       "      <td>0</td>\n",
       "    </tr>\n",
       "    <tr>\n",
       "      <th>Doc4</th>\n",
       "      <td>1</td>\n",
       "      <td>0</td>\n",
       "      <td>0</td>\n",
       "      <td>0</td>\n",
       "      <td>0</td>\n",
       "      <td>1</td>\n",
       "      <td>1</td>\n",
       "      <td>0</td>\n",
       "      <td>0</td>\n",
       "      <td>0</td>\n",
       "      <td>...</td>\n",
       "      <td>0</td>\n",
       "      <td>0</td>\n",
       "      <td>0</td>\n",
       "      <td>0</td>\n",
       "      <td>2</td>\n",
       "      <td>0</td>\n",
       "      <td>0</td>\n",
       "      <td>0</td>\n",
       "      <td>0</td>\n",
       "      <td>0</td>\n",
       "    </tr>\n",
       "  </tbody>\n",
       "</table>\n",
       "<p>5 rows × 747 columns</p>\n",
       "</div>"
      ],
      "text/plain": [
       "      abound  according  acetone  active  actually  add  additional  adhesive  \\\n",
       "Doc0       0          0        0       0         0    0           0         0   \n",
       "Doc1       0          0        0       0         0    0           0         0   \n",
       "Doc2       0          0        0       0         0    0           0         0   \n",
       "Doc3       0          0        0       0         0    0           0         0   \n",
       "Doc4       1          0        0       0         0    1           1         0   \n",
       "\n",
       "      adrift  age  ...  worth  would  ximénez  xop  year  you  young  \\\n",
       "Doc0       0    0  ...      0      0        0    0     0    0      0   \n",
       "Doc1       0    0  ...      0      0        0    0     0    0      0   \n",
       "Doc2       0    0  ...      0      0        0    0     0    0      0   \n",
       "Doc3       0    0  ...      0      0        0    0     0    0      0   \n",
       "Doc4       0    0  ...      0      0        0    0     2    0      0   \n",
       "\n",
       "      youngster  zest  zinging  \n",
       "Doc0          0     0        0  \n",
       "Doc1          0     0        0  \n",
       "Doc2          0     0        0  \n",
       "Doc3          0     0        0  \n",
       "Doc4          0     0        0  \n",
       "\n",
       "[5 rows x 747 columns]"
      ]
     },
     "execution_count": 200,
     "metadata": {},
     "output_type": "execute_result"
    }
   ],
   "source": [
    "# load the data\n",
    "#ddclean = pd.read_csv(dirname(d)+'/Data/ddclean.csv')\n",
    "cat3.head()\n",
    "#2247 rows × 8646 columns"
   ]
  },
  {
   "cell_type": "code",
   "execution_count": 174,
   "metadata": {},
   "outputs": [
    {
     "data": {
      "text/html": [
       "<div>\n",
       "<style scoped>\n",
       "    .dataframe tbody tr th:only-of-type {\n",
       "        vertical-align: middle;\n",
       "    }\n",
       "\n",
       "    .dataframe tbody tr th {\n",
       "        vertical-align: top;\n",
       "    }\n",
       "\n",
       "    .dataframe thead th {\n",
       "        text-align: right;\n",
       "    }\n",
       "</style>\n",
       "<table border=\"1\" class=\"dataframe\">\n",
       "  <thead>\n",
       "    <tr style=\"text-align: right;\">\n",
       "      <th></th>\n",
       "      <th>0</th>\n",
       "    </tr>\n",
       "  </thead>\n",
       "  <tbody>\n",
       "    <tr>\n",
       "      <th>finish</th>\n",
       "      <td>1467</td>\n",
       "    </tr>\n",
       "    <tr>\n",
       "      <th>fruit</th>\n",
       "      <td>1286</td>\n",
       "    </tr>\n",
       "    <tr>\n",
       "      <th>note</th>\n",
       "      <td>1282</td>\n",
       "    </tr>\n",
       "    <tr>\n",
       "      <th>whisky</th>\n",
       "      <td>1263</td>\n",
       "    </tr>\n",
       "    <tr>\n",
       "      <th>palate</th>\n",
       "      <td>1214</td>\n",
       "    </tr>\n",
       "  </tbody>\n",
       "</table>\n",
       "</div>"
      ],
      "text/plain": [
       "           0\n",
       "finish  1467\n",
       "fruit   1286\n",
       "note    1282\n",
       "whisky  1263\n",
       "palate  1214"
      ]
     },
     "execution_count": 174,
     "metadata": {},
     "output_type": "execute_result"
    }
   ],
   "source": [
    "word_freq=ddclean.sum(axis = 0, skipna = True)\n",
    "type(word_freq)\n",
    "\n",
    "o_word = pd.DataFrame([word_freq])\n",
    "o_word=o_word.transpose()\n",
    "o_word = o_word.sort_values(0,ascending=False)\n",
    "o_word.head()"
   ]
  },
  {
   "cell_type": "code",
   "execution_count": 175,
   "metadata": {},
   "outputs": [
    {
     "data": {
      "image/png": "[encoded data removed]",
      "text/plain": [
       "<Figure size 432x288 with 1 Axes>"
      ]
     },
     "metadata": {
      "needs_background": "light"
     },
     "output_type": "display_data"
    }
   ],
   "source": [
    "#word_freq.value_counts()[:20].plot(kind='bar')\n",
    "o_word[0][:20].plot.bar()\n",
    "plt.xlabel('Description Words')\n",
    "plt.ylabel('Count')\n",
    "plt.title('Most Frequently occuring Words in Whiskey Descriptions')\n",
    "plt.tight_layout()\n",
    "\n",
    "plt.savefig(dirname(d)+'/Figures/word_freq.png',dpi=300)\n",
    "plt.show()"
   ]
  },
  {
   "cell_type": "code",
   "execution_count": 176,
   "metadata": {},
   "outputs": [
    {
     "data": {
      "text/html": [
       "<div>\n",
       "<style scoped>\n",
       "    .dataframe tbody tr th:only-of-type {\n",
       "        vertical-align: middle;\n",
       "    }\n",
       "\n",
       "    .dataframe tbody tr th {\n",
       "        vertical-align: top;\n",
       "    }\n",
       "\n",
       "    .dataframe thead th {\n",
       "        text-align: right;\n",
       "    }\n",
       "</style>\n",
       "<table border=\"1\" class=\"dataframe\">\n",
       "  <thead>\n",
       "    <tr style=\"text-align: right;\">\n",
       "      <th></th>\n",
       "      <th>0</th>\n",
       "    </tr>\n",
       "  </thead>\n",
       "  <tbody>\n",
       "    <tr>\n",
       "      <th>whisky</th>\n",
       "      <td>106</td>\n",
       "    </tr>\n",
       "    <tr>\n",
       "      <th>malt</th>\n",
       "      <td>81</td>\n",
       "    </tr>\n",
       "    <tr>\n",
       "      <th>finish</th>\n",
       "      <td>64</td>\n",
       "    </tr>\n",
       "    <tr>\n",
       "      <th>smoke</th>\n",
       "      <td>63</td>\n",
       "    </tr>\n",
       "    <tr>\n",
       "      <th>fruit</th>\n",
       "      <td>63</td>\n",
       "    </tr>\n",
       "  </tbody>\n",
       "</table>\n",
       "</div>"
      ],
      "text/plain": [
       "          0\n",
       "whisky  106\n",
       "malt     81\n",
       "finish   64\n",
       "smoke    63\n",
       "fruit    63"
      ]
     },
     "execution_count": 176,
     "metadata": {},
     "output_type": "execute_result"
    }
   ],
   "source": [
    "#Blended Malt Scotch Whisky\n",
    "c1word_freq=cat1.sum(axis = 0, skipna = True)\n",
    "c1_word = pd.DataFrame([c1word_freq])\n",
    "c1_word=c1_word.transpose()\n",
    "c1_word = c1_word.sort_values(0,ascending=False)\n",
    "c1_word.head()"
   ]
  },
  {
   "cell_type": "code",
   "execution_count": 177,
   "metadata": {},
   "outputs": [
    {
     "data": {
      "image/png": "[encoded data removed]",
      "text/plain": [
       "<Figure size 432x288 with 1 Axes>"
      ]
     },
     "metadata": {
      "needs_background": "light"
     },
     "output_type": "display_data"
    }
   ],
   "source": [
    "#word_freq.value_counts()[:20].plot(kind='bar')\n",
    "c1_word[0][:20].plot.bar()\n",
    "plt.xlabel('Blended Malt Scotch Whiskey: Description Words')\n",
    "plt.ylabel('Count')\n",
    "plt.title('Words in Blended Malt Scotch Whiskey Descriptions by Freq.')\n",
    "plt.tight_layout()\n",
    "\n",
    "plt.savefig(dirname(d)+'/Figures/c1word_freq.png',dpi=300)\n",
    "plt.show()"
   ]
  },
  {
   "cell_type": "code",
   "execution_count": 183,
   "metadata": {},
   "outputs": [
    {
     "data": {
      "text/html": [
       "<div>\n",
       "<style scoped>\n",
       "    .dataframe tbody tr th:only-of-type {\n",
       "        vertical-align: middle;\n",
       "    }\n",
       "\n",
       "    .dataframe tbody tr th {\n",
       "        vertical-align: top;\n",
       "    }\n",
       "\n",
       "    .dataframe thead th {\n",
       "        text-align: right;\n",
       "    }\n",
       "</style>\n",
       "<table border=\"1\" class=\"dataframe\">\n",
       "  <thead>\n",
       "    <tr style=\"text-align: right;\">\n",
       "      <th></th>\n",
       "      <th>0</th>\n",
       "    </tr>\n",
       "  </thead>\n",
       "  <tbody>\n",
       "    <tr>\n",
       "      <th>spice</th>\n",
       "      <td>152</td>\n",
       "    </tr>\n",
       "    <tr>\n",
       "      <th>finish</th>\n",
       "      <td>132</td>\n",
       "    </tr>\n",
       "    <tr>\n",
       "      <th>whisky</th>\n",
       "      <td>128</td>\n",
       "    </tr>\n",
       "    <tr>\n",
       "      <th>blend</th>\n",
       "      <td>113</td>\n",
       "    </tr>\n",
       "    <tr>\n",
       "      <th>fruit</th>\n",
       "      <td>101</td>\n",
       "    </tr>\n",
       "  </tbody>\n",
       "</table>\n",
       "</div>"
      ],
      "text/plain": [
       "          0\n",
       "spice   152\n",
       "finish  132\n",
       "whisky  128\n",
       "blend   113\n",
       "fruit   101"
      ]
     },
     "execution_count": 183,
     "metadata": {},
     "output_type": "execute_result"
    }
   ],
   "source": [
    "c2word_freq=cat2.sum(axis = 0, skipna = True)\n",
    "c2_word = pd.DataFrame([c2word_freq])\n",
    "c2_word=c2_word.transpose()\n",
    "c2_word = c2_word.sort_values(0,ascending=False)\n",
    "c2_word.head()"
   ]
  },
  {
   "cell_type": "code",
   "execution_count": 204,
   "metadata": {},
   "outputs": [
    {
     "data": {
      "image/png": "[encoded data removed]",
      "text/plain": [
       "<Figure size 432x288 with 1 Axes>"
      ]
     },
     "metadata": {
      "needs_background": "light"
     },
     "output_type": "display_data"
    }
   ],
   "source": [
    "#word_freq.value_counts()[:20].plot(kind='bar')\n",
    "c2_word[0][:20].plot.bar()\n",
    "plt.xlabel('Blended Scotch Whiskey: Description Words')\n",
    "plt.ylabel('Count')\n",
    "plt.title('Words in Blended Scotch Whiskey Descriptions by Freq.')\n",
    "plt.tight_layout()\n",
    "\n",
    "plt.savefig(dirname(d)+'/Figures/c2word_freq.png',dpi=300)\n",
    "plt.show()"
   ]
  },
  {
   "cell_type": "code",
   "execution_count": 206,
   "metadata": {},
   "outputs": [
    {
     "data": {
      "text/html": [
       "<div>\n",
       "<style scoped>\n",
       "    .dataframe tbody tr th:only-of-type {\n",
       "        vertical-align: middle;\n",
       "    }\n",
       "\n",
       "    .dataframe tbody tr th {\n",
       "        vertical-align: top;\n",
       "    }\n",
       "\n",
       "    .dataframe thead th {\n",
       "        text-align: right;\n",
       "    }\n",
       "</style>\n",
       "<table border=\"1\" class=\"dataframe\">\n",
       "  <thead>\n",
       "    <tr style=\"text-align: right;\">\n",
       "      <th></th>\n",
       "      <th>0</th>\n",
       "    </tr>\n",
       "  </thead>\n",
       "  <tbody>\n",
       "    <tr>\n",
       "      <th>whisky</th>\n",
       "      <td>34</td>\n",
       "    </tr>\n",
       "    <tr>\n",
       "      <th>grain</th>\n",
       "      <td>30</td>\n",
       "    </tr>\n",
       "    <tr>\n",
       "      <th>note</th>\n",
       "      <td>24</td>\n",
       "    </tr>\n",
       "    <tr>\n",
       "      <th>finish</th>\n",
       "      <td>20</td>\n",
       "    </tr>\n",
       "    <tr>\n",
       "      <th>vanilla</th>\n",
       "      <td>19</td>\n",
       "    </tr>\n",
       "  </tbody>\n",
       "</table>\n",
       "</div>"
      ],
      "text/plain": [
       "          0\n",
       "whisky   34\n",
       "grain    30\n",
       "note     24\n",
       "finish   20\n",
       "vanilla  19"
      ]
     },
     "execution_count": 206,
     "metadata": {},
     "output_type": "execute_result"
    }
   ],
   "source": [
    "c3word_freq=cat3.sum(axis = 0, skipna = True)\n",
    "c3_word = pd.DataFrame([c3word_freq])\n",
    "c3_word=c3_word.transpose()\n",
    "c3_word = c3_word.sort_values(0,ascending=False)\n",
    "c3_word.head()"
   ]
  },
  {
   "cell_type": "code",
   "execution_count": 210,
   "metadata": {},
   "outputs": [
    {
     "data": {
      "image/png": "[encoded data removed]",
      "text/plain": [
       "<Figure size 432x288 with 1 Axes>"
      ]
     },
     "metadata": {
      "needs_background": "light"
     },
     "output_type": "display_data"
    }
   ],
   "source": [
    "#word_freq.value_counts()[:20].plot(kind='bar')\n",
    "c3_word[0][:20].plot.bar()\n",
    "plt.xlabel('Grain Scotch Whiskey: Description Words')\n",
    "plt.ylabel('Count')\n",
    "plt.title('Words in Grain Scotch Whiskey Descriptions by Freq.')\n",
    "plt.tight_layout()\n",
    "\n",
    "plt.savefig(dirname(d)+'/Figures/c3word_freq.png',dpi=300)\n",
    "plt.show()"
   ]
  },
  {
   "cell_type": "code",
   "execution_count": 211,
   "metadata": {},
   "outputs": [
    {
     "data": {
      "text/html": [
       "<div>\n",
       "<style scoped>\n",
       "    .dataframe tbody tr th:only-of-type {\n",
       "        vertical-align: middle;\n",
       "    }\n",
       "\n",
       "    .dataframe tbody tr th {\n",
       "        vertical-align: top;\n",
       "    }\n",
       "\n",
       "    .dataframe thead th {\n",
       "        text-align: right;\n",
       "    }\n",
       "</style>\n",
       "<table border=\"1\" class=\"dataframe\">\n",
       "  <thead>\n",
       "    <tr style=\"text-align: right;\">\n",
       "      <th></th>\n",
       "      <th>0</th>\n",
       "    </tr>\n",
       "  </thead>\n",
       "  <tbody>\n",
       "    <tr>\n",
       "      <th>finish</th>\n",
       "      <td>45</td>\n",
       "    </tr>\n",
       "    <tr>\n",
       "      <th>grain</th>\n",
       "      <td>37</td>\n",
       "    </tr>\n",
       "    <tr>\n",
       "      <th>bottle</th>\n",
       "      <td>36</td>\n",
       "    </tr>\n",
       "    <tr>\n",
       "      <th>vanilla</th>\n",
       "      <td>36</td>\n",
       "    </tr>\n",
       "    <tr>\n",
       "      <th>spice</th>\n",
       "      <td>33</td>\n",
       "    </tr>\n",
       "  </tbody>\n",
       "</table>\n",
       "</div>"
      ],
      "text/plain": [
       "          0\n",
       "finish   45\n",
       "grain    37\n",
       "bottle   36\n",
       "vanilla  36\n",
       "spice    33"
      ]
     },
     "execution_count": 211,
     "metadata": {},
     "output_type": "execute_result"
    }
   ],
   "source": [
    "c4word_freq=cat4.sum(axis = 0, skipna = True)\n",
    "c4_word = pd.DataFrame([c4word_freq])\n",
    "c4_word=c4_word.transpose()\n",
    "c4_word = c4_word.sort_values(0,ascending=False)\n",
    "c4_word.head()"
   ]
  },
  {
   "cell_type": "code",
   "execution_count": 215,
   "metadata": {},
   "outputs": [
    {
     "data": {
      "image/png": "[encoded data removed]",
      "text/plain": [
       "<Figure size 432x288 with 1 Axes>"
      ]
     },
     "metadata": {
      "needs_background": "light"
     },
     "output_type": "display_data"
    }
   ],
   "source": [
    "#word_freq.value_counts()[:20].plot(kind='bar')\n",
    "c4_word[0][:20].plot.bar()\n",
    "plt.xlabel('Single Grain Scotch Whiskey: Description Words')\n",
    "plt.ylabel('Count')\n",
    "plt.title('Words in Single Grain Scotch Whiskey Descriptions by Freq.')\n",
    "plt.tight_layout()\n",
    "\n",
    "plt.savefig(dirname(d)+'/Figures/c4word_freq.png',dpi=300)\n",
    "plt.show()"
   ]
  },
  {
   "cell_type": "code",
   "execution_count": 213,
   "metadata": {},
   "outputs": [
    {
     "data": {
      "text/html": [
       "<div>\n",
       "<style scoped>\n",
       "    .dataframe tbody tr th:only-of-type {\n",
       "        vertical-align: middle;\n",
       "    }\n",
       "\n",
       "    .dataframe tbody tr th {\n",
       "        vertical-align: top;\n",
       "    }\n",
       "\n",
       "    .dataframe thead th {\n",
       "        text-align: right;\n",
       "    }\n",
       "</style>\n",
       "<table border=\"1\" class=\"dataframe\">\n",
       "  <thead>\n",
       "    <tr style=\"text-align: right;\">\n",
       "      <th></th>\n",
       "      <th>0</th>\n",
       "    </tr>\n",
       "  </thead>\n",
       "  <tbody>\n",
       "    <tr>\n",
       "      <th>finish</th>\n",
       "      <td>1206</td>\n",
       "    </tr>\n",
       "    <tr>\n",
       "      <th>palate</th>\n",
       "      <td>1113</td>\n",
       "    </tr>\n",
       "    <tr>\n",
       "      <th>fruit</th>\n",
       "      <td>1087</td>\n",
       "    </tr>\n",
       "    <tr>\n",
       "      <th>note</th>\n",
       "      <td>1086</td>\n",
       "    </tr>\n",
       "    <tr>\n",
       "      <th>whisky</th>\n",
       "      <td>971</td>\n",
       "    </tr>\n",
       "  </tbody>\n",
       "</table>\n",
       "</div>"
      ],
      "text/plain": [
       "           0\n",
       "finish  1206\n",
       "palate  1113\n",
       "fruit   1087\n",
       "note    1086\n",
       "whisky   971"
      ]
     },
     "execution_count": 213,
     "metadata": {},
     "output_type": "execute_result"
    }
   ],
   "source": [
    "c5word_freq=cat5.sum(axis = 0, skipna = True)\n",
    "c5_word = pd.DataFrame([c5word_freq])\n",
    "c5_word=c5_word.transpose()\n",
    "c5_word = c5_word.sort_values(0,ascending=False)\n",
    "c5_word.head()"
   ]
  },
  {
   "cell_type": "code",
   "execution_count": 216,
   "metadata": {},
   "outputs": [
    {
     "data": {
      "image/png": "[encoded data removed]",
      "text/plain": [
       "<Figure size 432x288 with 1 Axes>"
      ]
     },
     "metadata": {
      "needs_background": "light"
     },
     "output_type": "display_data"
    }
   ],
   "source": [
    "#word_freq.value_counts()[:20].plot(kind='bar')\n",
    "c5_word[0][:20].plot.bar()\n",
    "plt.xlabel('Single Malt Scotch: Description Words')\n",
    "plt.ylabel('Count')\n",
    "plt.title('Words in Single Malt Scotch Descriptions by Freq.')\n",
    "plt.tight_layout()\n",
    "\n",
    "plt.savefig(dirname(d)+'/Figures/c5word_freq.png',dpi=300)\n",
    "plt.show()"
   ]
  },
  {
   "cell_type": "code",
   "execution_count": 77,
   "metadata": {},
   "outputs": [
    {
     "data": {
      "image/png": "[encoded data removed]",
      "text/plain": [
       "<Figure size 460.8x345.6 with 1 Axes>"
      ]
     },
     "metadata": {
      "needs_background": "light"
     },
     "output_type": "display_data"
    }
   ],
   "source": [
    "# Check histogram for Price\n",
    "# define your canvas, e.g., figure size, number of subplots and their positions, etc\n",
    "plt.figure(figsize=(6.4,4.8))\n",
    "\n",
    "# draw on the figure, define the properties of the line or marker\n",
    "#plt.hist(y,bins=30,log=True)\n",
    "df['price'].hist(bins=30,log=True,grid=False)\n",
    "\n",
    "# modify the properties of the figure\n",
    "# axis labels, title, x and y limits, etc.\n",
    "plt.xlabel('Sales Price [$]')\n",
    "plt.ylabel('Whiskey Count')\n",
    "plt.title('Histogram of the Sale Price of Whiskeys')\n",
    "plt.tight_layout()\n",
    "\n",
    "# show the figure in the notebook or save it as a file\n",
    "plt.savefig(dirname(d)+'/Figures/price_hist.png',dpi=300)\n",
    "plt.show()"
   ]
  },
  {
   "cell_type": "code",
   "execution_count": 78,
   "metadata": {},
   "outputs": [
    {
     "data": {
      "image/png": "[encoded data removed]",
      "text/plain": [
       "<Figure size 460.8x345.6 with 1 Axes>"
      ]
     },
     "metadata": {
      "needs_background": "light"
     },
     "output_type": "display_data"
    }
   ],
   "source": [
    "# Check histogram for Review Score\n",
    "# define your canvas, e.g., figure size, number of subplots and their positions, etc\n",
    "plt.figure(figsize=(6.4,4.8))\n",
    "\n",
    "# draw on the figure, define the properties of the line or marker\n",
    "df['review.point'].hist(bins=30,log=True,grid=False)\n",
    "\n",
    "# modify the properties of the figure\n",
    "# axis labels, title, x and y limits, etc.\n",
    "plt.xlabel('Review Score [0-100]')\n",
    "plt.ylabel('Whiskey Count')\n",
    "plt.title('Histogram of the Review Score of Whiskeys')\n",
    "plt.tight_layout()\n",
    "\n",
    "# show the figure in the notebook or save it as a file\n",
    "plt.savefig(dirname(d)+'/Figures/review_hist.png',dpi=300)\n",
    "plt.show()"
   ]
  },
  {
   "cell_type": "code",
   "execution_count": 130,
   "metadata": {},
   "outputs": [
    {
     "data": {
      "image/png": "[encoded data removed]",
      "text/plain": [
       "<Figure size 432x288 with 1 Axes>"
      ]
     },
     "metadata": {
      "needs_background": "light"
     },
     "output_type": "display_data"
    }
   ],
   "source": [
    "df.plot.scatter('price','review.point') # the color and size of each point can also be defined\n",
    "\n",
    "plt.xlabel('Whiskey Price [$]')\n",
    "plt.ylabel('Review Score [0-100]')\n",
    "plt.title('Scatter Plot of Whiskey Price by Review Score')\n",
    "#plt.tight_layout()\n",
    "plt.tight_layout()\n",
    "plt.savefig(dirname(d)+'/Figures/scatter_review_price.png',dpi=300)\n",
    "plt.show()\n"
   ]
  },
  {
   "cell_type": "code",
   "execution_count": 80,
   "metadata": {},
   "outputs": [
    {
     "data": {
      "image/png": "[encoded data removed]",
      "text/plain": [
       "<Figure size 432x288 with 1 Axes>"
      ]
     },
     "metadata": {
      "needs_background": "light"
     },
     "output_type": "display_data"
    }
   ],
   "source": [
    "df.plot.scatter('price','review.point') # the color and size of each point can also be defined\n",
    "\n",
    "plt.xlabel('Whiskey Price [$]')\n",
    "plt.ylabel('Review Score [0-100]')\n",
    "plt.title('Scaled Scatter Plot of Whiskey Price by Review Score')\n",
    "\n",
    "plt.xlim(0,6100)\n",
    "plt.ylim(60,100)\n",
    "#plt.tight_layout()\n",
    "plt.tight_layout()\n",
    "plt.savefig(dirname(d)+'/Figures/scaled_scatter_review_price.png',dpi=900)\n",
    "plt.show()"
   ]
  },
  {
   "cell_type": "code",
   "execution_count": 188,
   "metadata": {},
   "outputs": [
    {
     "data": {
      "text/plain": [
       "<Figure size 748.8x489.6 with 0 Axes>"
      ]
     },
     "metadata": {},
     "output_type": "display_data"
    },
    {
     "data": {
      "image/png": "[encoded data removed]",
      "text/plain": [
       "<Figure size 432x288 with 1 Axes>"
      ]
     },
     "metadata": {
      "needs_background": "light"
     },
     "output_type": "display_data"
    }
   ],
   "source": [
    "plt.figure(figsize=(10.4,6.8))\n",
    "df[['review.point','category']].boxplot(by='category')\n",
    "\n",
    "plt.suptitle('')\n",
    "plt.title('Boxplot of Review Score by Whisky Type')\n",
    "plt.ylabel('Review Score [0-100]')\n",
    "plt.xlabel('Type of Whiskey')\n",
    "plt.xticks(rotation= 30)\n",
    "plt.tight_layout()\n",
    "plt.savefig(dirname(d)+'/Figures/score_type_boxplot.png',dpi=900)\n",
    "plt.show()"
   ]
  },
  {
   "cell_type": "code",
   "execution_count": 189,
   "metadata": {},
   "outputs": [
    {
     "data": {
      "text/plain": [
       "<Figure size 748.8x489.6 with 0 Axes>"
      ]
     },
     "metadata": {},
     "output_type": "display_data"
    },
    {
     "data": {
      "image/png": "[encoded data removed]",
      "text/plain": [
       "<Figure size 432x288 with 1 Axes>"
      ]
     },
     "metadata": {
      "needs_background": "light"
     },
     "output_type": "display_data"
    }
   ],
   "source": [
    "plt.figure(figsize=(10.4,6.8))\n",
    "df[['price','category']].boxplot(by='category')\n",
    "plt.suptitle('')\n",
    "plt.title('Boxplot of Whiskey Price by Whisky Type')\n",
    "plt.ylabel('Price [$]')\n",
    "plt.xlabel('Type of Whiskey')\n",
    "plt.ylim(0,800)\n",
    "plt.xticks(rotation= 30)\n",
    "plt.tight_layout()\n",
    "plt.savefig(dirname(d)+'/Figures/price_type_boxplot.png',dpi=900)\n",
    "plt.show()"
   ]
  },
  {
   "cell_type": "code",
   "execution_count": 83,
   "metadata": {},
   "outputs": [
    {
     "data": {
      "image/png": "[encoded data removed]",
      "text/plain": [
       "<Figure size 432x288 with 1 Axes>"
      ]
     },
     "metadata": {
      "needs_background": "light"
     },
     "output_type": "display_data"
    }
   ],
   "source": [
    "categories = df['category'].unique()\n",
    "bin_range = (df['price'].min(),800)\n",
    "\n",
    "for c in categories:\n",
    "    plt.hist(df[df['category']==c]['price'],alpha=0.5,label=c,range=bin_range,bins=50)\n",
    "plt.legend()\n",
    "plt.ylabel('Whiskey Count')\n",
    "plt.xlabel('Whiskey Price [$]')\n",
    "plt.title('Histogram of Whiskey Price by Type')\n",
    "plt.tight_layout()\n",
    "plt.savefig(dirname(d)+'/Figures/cunm_hist.png',dpi=900)\n",
    "plt.show()\n",
    "\n"
   ]
  },
  {
   "cell_type": "code",
   "execution_count": 84,
   "metadata": {},
   "outputs": [
    {
     "data": {
      "image/png": "[encoded data removed]",
      "text/plain": [
       "<Figure size 432x288 with 1 Axes>"
      ]
     },
     "metadata": {
      "needs_background": "light"
     },
     "output_type": "display_data"
    }
   ],
   "source": [
    "categories = df['category'].unique()\n",
    "bin_range = (60,100)\n",
    "\n",
    "for c in categories:\n",
    "    plt.hist(df[df['category']==c]['review.point'],alpha=0.5,label=c,range=bin_range,bins=50)\n",
    "plt.legend()\n",
    "plt.ylabel('Whiskey Count')\n",
    "plt.xlabel('Review Score [0-100]')\n",
    "plt.title('Histogram of Whiskey Review Score by Type')\n",
    "plt.tight_layout()\n",
    "plt.savefig(dirname(d)+'/Figures/cum_rev_hist.png',dpi=900)\n",
    "plt.show()\n"
   ]
  },
  {
   "cell_type": "code",
   "execution_count": 85,
   "metadata": {},
   "outputs": [
    {
     "data": {
      "image/png": "[encoded data removed]",
      "text/plain": [
       "<Figure size 720x720 with 2 Axes>"
      ]
     },
     "metadata": {
      "needs_background": "light"
     },
     "output_type": "display_data"
    }
   ],
   "source": [
    "corrmat = df.corr()\n",
    "\n",
    "all_cols = corrmat.sort_values('price',ascending=False)['price'].index \n",
    "cols = all_cols[:10] # positively correlated features\n",
    "\n",
    "cm = corrmat.loc[cols,cols]\n",
    "\n",
    "plt.figure(figsize=(10,10))\n",
    "plt.matshow(cm,vmin=-1,vmax=1,cmap='seismic',fignum=0)\n",
    "plt.colorbar(label='corr. coeff.')\n",
    "plt.xticks(np.arange(cm.shape[0]),list(cols))\n",
    "plt.yticks(np.arange(cm.shape[0]),list(cols))\n",
    "plt.savefig(dirname(d)+'/Figures/correlation.png',dpi=300)\n",
    "plt.tight_layout()\n",
    "plt.show()"
   ]
  },
  {
   "cell_type": "code",
   "execution_count": null,
   "metadata": {},
   "outputs": [],
   "source": [
    "#try to find words that are tfd and idf afor each specific whiskey type\n",
    "# interesting ratio for NLP\n",
    "#percentage of word type by whiskey dividied by other whiskey and do it\n",
    "#cluster by whiskey type\n",
    "# sentiment analysis\n",
    "# doing correlations and TDF and IDF\n",
    "\n",
    "# make itb for list \n",
    "# make pandas series (filter)\n",
    "#write a function that loops through all the names - 4 digit number if probably the year\n",
    "#year old 2 digit number\n",
    "#take the number right before the percent sign\n",
    "# lookup function in python\n",
    "# pattern matching python\n",
    "# scatter plot review score an\n",
    "\n",
    "## WATCH LABELS ON PLOTS IN BACK OF THE ROOM\n",
    "# MAKE SURE TO HAVE GITHUB LINK ON SLIDE TITLE\n",
    "# TIMING IS SUPER IMPORTANT\n",
    "##"
   ]
  },
  {
   "cell_type": "code",
   "execution_count": null,
   "metadata": {},
   "outputs": [],
   "source": []
  }
 ],
 "metadata": {
  "kernelspec": {
   "display_name": "Python 3",
   "language": "python",
   "name": "python3"
  },
  "language_info": {
   "codemirror_mode": {
    "name": "ipython",
    "version": 3
   },
   "file_extension": ".py",
   "mimetype": "text/x-python",
   "name": "python",
   "nbconvert_exporter": "python",
   "pygments_lexer": "ipython3",
   "version": "3.7.3"
  }
 },
 "nbformat": 4,
 "nbformat_minor": 4
}
