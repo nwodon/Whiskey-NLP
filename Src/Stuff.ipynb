{
 "cells": [
  {
   "cell_type": "code",
   "execution_count": null,
   "metadata": {},
   "outputs": [],
   "source": [
    "# cat_ftrs = ['category','reviewbin']\n",
    "# cont_ftrs = ['review.point','percent', 'd_len','n_len', 'd_charw', 'n_charw','log_price','review2']\n",
    "\n",
    "# # one-hot encoder\n",
    "# categorical_transformer = Pipeline(steps=[\n",
    "#     ('onehot', OneHotEncoder(sparse=False))])\n",
    "\n",
    "# # standard scaler\n",
    "# numeric_transformer = Pipeline(steps=[\n",
    "#     ('scaler', StandardScaler())])\n",
    "\n",
    "# # collect the transformers\n",
    "# preprocessor = ColumnTransformer(\n",
    "#     transformers=[\n",
    "#         ('num', numeric_transformer, cont_ftrs),\n",
    "#         ('cat', categorical_transformer, cat_ftrs)])\n",
    "\n",
    "# # fit_transform the data\n",
    "# X_prep = preprocessor.fit_transform(dfmodel)\n",
    "\n",
    "# # little hacky, but collect feature names\n",
    "# feature_names = preprocessor.transformers_[0][-1] + \\\n",
    "#                 list(preprocessor.named_transformers_['cat'][0].get_feature_names())\n",
    "\n",
    "# df_preprocessed = pd.DataFrame(data=X_prep,columns=feature_names)\n",
    "# y = df_preprocessed['log_price']\n",
    "# df_preprocessed.drop(columns=['log_price'],inplace=True)\n",
    "\n",
    "# f_test, p_values = f_regression(df_preprocessed, y)\n",
    "# print('f score',f_test)\n",
    "# print('p values',p_values)\n",
    "# mi = mutual_info_regression(df_preprocessed, y)\n",
    "# print('mi',mi)\n",
    "\n",
    "# # f test\n",
    "# fs1 = SelectKBest(f_regression)\n",
    "# fs1.fit_transform(df_preprocessed,y)\n",
    "# fs1_feature_names = list(df_preprocessed.columns[fs1.get_support()])\n",
    "# # mutual information\n",
    "# fs2 = SelectKBest(mutual_info_regression)\n",
    "# fs2.fit_transform(df_preprocessed,y)\n",
    "# fs2_feature_names = list(df_preprocessed.columns[fs2.get_support()])\n",
    "\n",
    "# print(fs1_feature_names)\n",
    "# print(fs2_feature_names)\n",
    "\n",
    "# # all_selected_features = list(set(fs1_feature_names+fs2_feature_names))\n",
    "# # print(len(all_selected_features), all_selected_features)"
   ]
  }
 ],
 "metadata": {
  "kernelspec": {
   "display_name": "Python 3",
   "language": "python",
   "name": "python3"
  },
  "language_info": {
   "codemirror_mode": {
    "name": "ipython",
    "version": 3
   },
   "file_extension": ".py",
   "mimetype": "text/x-python",
   "name": "python",
   "nbconvert_exporter": "python",
   "pygments_lexer": "ipython3",
   "version": "3.7.3"
  }
 },
 "nbformat": 4,
 "nbformat_minor": 4
}
